{
 "cells": [
  {
   "cell_type": "code",
   "execution_count": 28,
   "metadata": {},
   "outputs": [
    {
     "name": "stdout",
     "output_type": "stream",
     "text": [
      "[1, 2, 2, 2, 2, 3, 5, 7, 9, 11]\n",
      "[1, 2, 2, 2, 2]\n",
      "[3, 5, 7, 9, 11]\n",
      "Kuartil Q1 = 2\n",
      "Kuartil Q2 = 2.5\n",
      "Kuartil Q3 = 7\n"
     ]
    }
   ],
   "source": [
    "import math;\n",
    "original_data = [1,2,3,2,5,2,7,2,9,11]\n",
    "original_data.sort()\n",
    "\n",
    "#build function to get median value from data set\n",
    "def median(data) :\n",
    "    data.sort(); \n",
    "    median = 0; \n",
    "    if (len(data) % 2 != 0) :\n",
    "\t    median = data[math.floor(len(data) / 2)];\n",
    "    else :\n",
    "        mid1 = data[(int(len(data) / 2) - 1)];\n",
    "        mid2 = data[int(len(data) / 2)]\n",
    "        median = (mid1 + mid2) / 2;\n",
    "    return median;\n",
    "\n",
    "#divide data set into two halves\n",
    "idx_median = math.floor(len(original_data) / 2);\n",
    "lower_half_data =[];\n",
    "upper_half_data =[];\n",
    "\n",
    "if (len(original_data) % 2 == 0):\n",
    "    for i in range(idx_median):\n",
    "        lower_half_data.append(original_data[i]);\n",
    "else:\n",
    "    for i in range(idx_median + 1):\n",
    "        lower_half_data.append(original_data[i]);\n",
    "\n",
    "for i in range(idx_median, len(original_data)):\n",
    "        upper_half_data.append(original_data[i]);  \n",
    "\n",
    "print(original_data)\n",
    "print(lower_half_data)\n",
    "print(upper_half_data)\n",
    "\n",
    "#determine quartile value by getting median for each data set\n",
    "print(\"Kuartil Q1 = \" + str(median(lower_half_data)))\n",
    "print(\"Kuartil Q2 = \" + str(median(original_data)))\n",
    "print(\"Kuartil Q3 = \" + str(median(upper_half_data)))\n",
    "\n",
    "\n",
    "\n",
    "\n",
    "\n"
   ]
  },
  {
   "cell_type": "code",
   "execution_count": 27,
   "metadata": {},
   "outputs": [
    {
     "data": {
      "text/plain": [
       "4"
      ]
     },
     "execution_count": 27,
     "metadata": {},
     "output_type": "execute_result"
    }
   ],
   "source": [
    "index_median"
   ]
  },
  {
   "cell_type": "code",
   "execution_count": null,
   "metadata": {},
   "outputs": [],
   "source": []
  },
  {
   "cell_type": "code",
   "execution_count": null,
   "metadata": {},
   "outputs": [],
   "source": []
  }
 ],
 "metadata": {
  "kernelspec": {
   "display_name": "Python 3",
   "language": "python",
   "name": "python3"
  },
  "language_info": {
   "codemirror_mode": {
    "name": "ipython",
    "version": 3
   },
   "file_extension": ".py",
   "mimetype": "text/x-python",
   "name": "python",
   "nbconvert_exporter": "python",
   "pygments_lexer": "ipython3",
   "version": "3.7.1"
  }
 },
 "nbformat": 4,
 "nbformat_minor": 2
}
